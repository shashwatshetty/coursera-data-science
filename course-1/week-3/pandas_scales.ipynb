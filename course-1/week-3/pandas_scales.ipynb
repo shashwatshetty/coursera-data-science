{
 "cells": [
  {
   "cell_type": "code",
   "execution_count": 26,
   "metadata": {},
   "outputs": [],
   "source": [
    "import pandas as pd\n",
    "import numpy as np"
   ]
  },
  {
   "cell_type": "code",
   "execution_count": 27,
   "metadata": {},
   "outputs": [
    {
     "data": {
      "text/html": [
       "<div>\n",
       "<style scoped>\n",
       "    .dataframe tbody tr th:only-of-type {\n",
       "        vertical-align: middle;\n",
       "    }\n",
       "\n",
       "    .dataframe tbody tr th {\n",
       "        vertical-align: top;\n",
       "    }\n",
       "\n",
       "    .dataframe thead th {\n",
       "        text-align: right;\n",
       "    }\n",
       "</style>\n",
       "<table border=\"1\" class=\"dataframe\">\n",
       "  <thead>\n",
       "    <tr style=\"text-align: right;\">\n",
       "      <th></th>\n",
       "      <th>Letter Grades</th>\n",
       "    </tr>\n",
       "  </thead>\n",
       "  <tbody>\n",
       "    <tr>\n",
       "      <th>Excellent</th>\n",
       "      <td>A+</td>\n",
       "    </tr>\n",
       "    <tr>\n",
       "      <th>Excellent</th>\n",
       "      <td>A</td>\n",
       "    </tr>\n",
       "    <tr>\n",
       "      <th>Excellent</th>\n",
       "      <td>A-</td>\n",
       "    </tr>\n",
       "    <tr>\n",
       "      <th>Good</th>\n",
       "      <td>B+</td>\n",
       "    </tr>\n",
       "    <tr>\n",
       "      <th>Good</th>\n",
       "      <td>B</td>\n",
       "    </tr>\n",
       "    <tr>\n",
       "      <th>Good</th>\n",
       "      <td>B-</td>\n",
       "    </tr>\n",
       "    <tr>\n",
       "      <th>Average</th>\n",
       "      <td>C+</td>\n",
       "    </tr>\n",
       "    <tr>\n",
       "      <th>Average</th>\n",
       "      <td>C</td>\n",
       "    </tr>\n",
       "    <tr>\n",
       "      <th>Average</th>\n",
       "      <td>C-</td>\n",
       "    </tr>\n",
       "    <tr>\n",
       "      <th>OK</th>\n",
       "      <td>D+</td>\n",
       "    </tr>\n",
       "    <tr>\n",
       "      <th>OK</th>\n",
       "      <td>D</td>\n",
       "    </tr>\n",
       "  </tbody>\n",
       "</table>\n",
       "</div>"
      ],
      "text/plain": [
       "          Letter Grades\n",
       "Excellent            A+\n",
       "Excellent             A\n",
       "Excellent            A-\n",
       "Good                 B+\n",
       "Good                  B\n",
       "Good                 B-\n",
       "Average              C+\n",
       "Average               C\n",
       "Average              C-\n",
       "OK                   D+\n",
       "OK                    D"
      ]
     },
     "execution_count": 27,
     "metadata": {},
     "output_type": "execute_result"
    }
   ],
   "source": [
    "df = pd.DataFrame(['A+', 'A', 'A-', 'B+', 'B', 'B-', 'C+', 'C', 'C-', 'D+', 'D'],\n",
    "                     index = ['Excellent', 'Excellent', 'Excellent',\n",
    "                                'Good', 'Good', 'Good',\n",
    "                                 'Average', 'Average', 'Average',\n",
    "                                 'OK', 'OK'])\n",
    "df.rename(columns={0: 'Letter Grades'}, inplace = True)\n",
    "df"
   ]
  },
  {
   "cell_type": "code",
   "execution_count": 28,
   "metadata": {},
   "outputs": [
    {
     "data": {
      "text/plain": [
       "Excellent    A+\n",
       "Excellent     A\n",
       "Excellent    A-\n",
       "Good         B+\n",
       "Good          B\n",
       "Good         B-\n",
       "Average      C+\n",
       "Average       C\n",
       "Average      C-\n",
       "OK           D+\n",
       "OK            D\n",
       "Name: Letter Grades, dtype: category\n",
       "Categories (11, object): [A, A+, A-, B, ..., C+, C-, D, D+]"
      ]
     },
     "execution_count": 28,
     "metadata": {},
     "output_type": "execute_result"
    }
   ],
   "source": [
    "# assigning a column a particular scale, in this case type is category, eg. of nominal data\n",
    "df['Letter Grades'].astype('category')"
   ]
  },
  {
   "cell_type": "code",
   "execution_count": 29,
   "metadata": {},
   "outputs": [
    {
     "name": "stderr",
     "output_type": "stream",
     "text": [
      "D:\\Softwares\\Anaconda3\\lib\\site-packages\\ipykernel_launcher.py:3: FutureWarning: specifying 'categories' or 'ordered' in .astype() is deprecated; pass a CategoricalDtype instead\n",
      "  This is separate from the ipykernel package so we can avoid doing imports until\n"
     ]
    }
   ],
   "source": [
    "# giving order to different categories so that they can be compared, eg. of ordinal scale\n",
    "grades = df['Letter Grades'].astype('category',\n",
    "                                    categories = ['D', 'D+', 'C-', 'C', 'C+', 'B-', 'B', 'B+', 'A-', 'A', 'A+'],\n",
    "                                    ordered = True)"
   ]
  },
  {
   "cell_type": "code",
   "execution_count": 30,
   "metadata": {},
   "outputs": [
    {
     "data": {
      "text/plain": [
       "Excellent     True\n",
       "Excellent     True\n",
       "Excellent     True\n",
       "Good          True\n",
       "Good          True\n",
       "Good          True\n",
       "Average       True\n",
       "Average      False\n",
       "Average      False\n",
       "OK           False\n",
       "OK           False\n",
       "Name: Letter Grades, dtype: bool"
      ]
     },
     "execution_count": 30,
     "metadata": {},
     "output_type": "execute_result"
    }
   ],
   "source": [
    "# ordered data helps in creating boolean masking\n",
    "grades > 'C'"
   ]
  },
  {
   "cell_type": "code",
   "execution_count": 35,
   "metadata": {},
   "outputs": [
    {
     "data": {
      "text/plain": [
       "STNAME\n",
       "Alabama                   (11706.087, 75333.413]\n",
       "Alaska                    (11706.087, 75333.413]\n",
       "Arizona                 (390320.176, 453317.529]\n",
       "Arkansas                  (11706.087, 75333.413]\n",
       "California              (579312.234, 642309.586]\n",
       "Colorado                 (75333.413, 138330.766]\n",
       "Connecticut             (390320.176, 453317.529]\n",
       "Delaware                (264325.471, 327322.823]\n",
       "District of Columbia    (579312.234, 642309.586]\n",
       "Florida                 (264325.471, 327322.823]\n",
       "Georgia                   (11706.087, 75333.413]\n",
       "Hawaii                  (264325.471, 327322.823]\n",
       "Idaho                     (11706.087, 75333.413]\n",
       "Illinois                 (75333.413, 138330.766]\n",
       "Indiana                   (11706.087, 75333.413]\n",
       "Iowa                      (11706.087, 75333.413]\n",
       "Kansas                    (11706.087, 75333.413]\n",
       "Kentucky                  (11706.087, 75333.413]\n",
       "Louisiana                 (11706.087, 75333.413]\n",
       "Maine                    (75333.413, 138330.766]\n",
       "Maryland                (201328.118, 264325.471]\n",
       "Massachusetts           (453317.529, 516314.881]\n",
       "Michigan                 (75333.413, 138330.766]\n",
       "Minnesota                 (11706.087, 75333.413]\n",
       "Mississippi               (11706.087, 75333.413]\n",
       "Missouri                  (11706.087, 75333.413]\n",
       "Montana                   (11706.087, 75333.413]\n",
       "Nebraska                  (11706.087, 75333.413]\n",
       "Nevada                  (138330.766, 201328.118]\n",
       "New Hampshire            (75333.413, 138330.766]\n",
       "New Jersey              (390320.176, 453317.529]\n",
       "New Mexico                (11706.087, 75333.413]\n",
       "New York                (264325.471, 327322.823]\n",
       "North Carolina           (75333.413, 138330.766]\n",
       "North Dakota              (11706.087, 75333.413]\n",
       "Ohio                     (75333.413, 138330.766]\n",
       "Oklahoma                  (11706.087, 75333.413]\n",
       "Oregon                   (75333.413, 138330.766]\n",
       "Pennsylvania            (138330.766, 201328.118]\n",
       "Rhode Island            (201328.118, 264325.471]\n",
       "South Carolina           (75333.413, 138330.766]\n",
       "South Dakota              (11706.087, 75333.413]\n",
       "Tennessee                 (11706.087, 75333.413]\n",
       "Texas                    (75333.413, 138330.766]\n",
       "Utah                     (75333.413, 138330.766]\n",
       "Vermont                   (11706.087, 75333.413]\n",
       "Virginia                  (11706.087, 75333.413]\n",
       "Washington              (138330.766, 201328.118]\n",
       "West Virginia             (11706.087, 75333.413]\n",
       "Wisconsin                (75333.413, 138330.766]\n",
       "Wyoming                   (11706.087, 75333.413]\n",
       "Name: CENSUS2010POP, dtype: category\n",
       "Categories (10, interval[float64]): [(11706.087, 75333.413] < (75333.413, 138330.766] < (138330.766, 201328.118] < (201328.118, 264325.471] ... (390320.176, 453317.529] < (453317.529, 516314.881] < (516314.881, 579312.234] < (579312.234, 642309.586]]"
      ]
     },
     "execution_count": 35,
     "metadata": {},
     "output_type": "execute_result"
    }
   ],
   "source": [
    "# using pd.cut to segregate the values of the columns into different bins, which are equally spaced\n",
    "# eg. of interval or ratio scale \n",
    "cdf = pd.read_csv('census.csv')\n",
    "cdf = cdf[cdf['SUMLEV'] == 50]\n",
    "cut_cdf = cdf.set_index('STNAME').groupby(level=0).agg({'CENSUS2010POP': np.average})\n",
    "pd.cut(cut_cdf['CENSUS2010POP'], 10)"
   ]
  },
  {
   "cell_type": "code",
   "execution_count": 40,
   "metadata": {},
   "outputs": [
    {
     "data": {
      "text/plain": [
       "STNAME\n",
       "Alabama                   Scarcely Populated\n",
       "Alaska                    Scarcely Populated\n",
       "Arizona                 Moderately Populated\n",
       "Arkansas                  Scarcely Populated\n",
       "California                 Densely Populated\n",
       "Colorado                  Scarcely Populated\n",
       "Connecticut                Densely Populated\n",
       "Delaware                Moderately Populated\n",
       "District of Columbia       Densely Populated\n",
       "Florida                 Moderately Populated\n",
       "Georgia                   Scarcely Populated\n",
       "Hawaii                  Moderately Populated\n",
       "Idaho                     Scarcely Populated\n",
       "Illinois                  Scarcely Populated\n",
       "Indiana                   Scarcely Populated\n",
       "Iowa                      Scarcely Populated\n",
       "Kansas                    Scarcely Populated\n",
       "Kentucky                  Scarcely Populated\n",
       "Louisiana                 Scarcely Populated\n",
       "Maine                     Scarcely Populated\n",
       "Maryland                Moderately Populated\n",
       "Massachusetts              Densely Populated\n",
       "Michigan                  Scarcely Populated\n",
       "Minnesota                 Scarcely Populated\n",
       "Mississippi               Scarcely Populated\n",
       "Missouri                  Scarcely Populated\n",
       "Montana                   Scarcely Populated\n",
       "Nebraska                  Scarcely Populated\n",
       "Nevada                    Scarcely Populated\n",
       "New Hampshire             Scarcely Populated\n",
       "New Jersey              Moderately Populated\n",
       "New Mexico                Scarcely Populated\n",
       "New York                Moderately Populated\n",
       "North Carolina            Scarcely Populated\n",
       "North Dakota              Scarcely Populated\n",
       "Ohio                      Scarcely Populated\n",
       "Oklahoma                  Scarcely Populated\n",
       "Oregon                    Scarcely Populated\n",
       "Pennsylvania              Scarcely Populated\n",
       "Rhode Island              Scarcely Populated\n",
       "South Carolina            Scarcely Populated\n",
       "South Dakota              Scarcely Populated\n",
       "Tennessee                 Scarcely Populated\n",
       "Texas                     Scarcely Populated\n",
       "Utah                      Scarcely Populated\n",
       "Vermont                   Scarcely Populated\n",
       "Virginia                  Scarcely Populated\n",
       "Washington                Scarcely Populated\n",
       "West Virginia             Scarcely Populated\n",
       "Wisconsin                 Scarcely Populated\n",
       "Wyoming                   Scarcely Populated\n",
       "Name: CENSUS2010POP, dtype: category\n",
       "Categories (3, object): [Scarcely Populated < Moderately Populated < Densely Populated]"
      ]
     },
     "execution_count": 40,
     "metadata": {},
     "output_type": "execute_result"
    }
   ],
   "source": [
    "# cutting the data into different bins and labelling each bin\n",
    "pop_comparison = pd.cut(cut_cdf['CENSUS2010POP'], 3, labels = ['Scarcely Populated', 'Moderately Populated', 'Densely Populated'])\n",
    "pop_comparison"
   ]
  },
  {
   "cell_type": "code",
   "execution_count": null,
   "metadata": {},
   "outputs": [],
   "source": []
  }
 ],
 "metadata": {
  "kernelspec": {
   "display_name": "Python 3",
   "language": "python",
   "name": "python3"
  },
  "language_info": {
   "codemirror_mode": {
    "name": "ipython",
    "version": 3
   },
   "file_extension": ".py",
   "mimetype": "text/x-python",
   "name": "python",
   "nbconvert_exporter": "python",
   "pygments_lexer": "ipython3",
   "version": "3.6.4"
  }
 },
 "nbformat": 4,
 "nbformat_minor": 2
}
